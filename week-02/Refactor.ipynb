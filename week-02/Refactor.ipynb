{
 "cells": [
  {
   "cell_type": "markdown",
   "id": "3d70a73d",
   "metadata": {},
   "source": [
    "## Refactoring\n",
    "\n",
    "The class 'AppData' was created to collect the functions utilized for conducting data analysis. These functions were subsequently refactored to conform more closely to Python's coding conventions and best practices.\n",
    "\n",
    " - An object of the class 'AppData' is instanciated with its corresponding .csv file. The data contained in the file is available through the parameters AppData.header and AppData.dataset. \n",
    " - The function 'remove_duplicates' was refactored. A python set 'already_added' is now responsible for keeping track of duplicated apps. \n",
    " - The function 'is_english' was renamed 'is_non_ascii', since several languages use the same set of characters. Additionally, the function now uses python's 'generator'. \n",
    " - The function 'remove_paid_apps' can now be described in only one line by using python's list comprehension. \n",
    " - The functions 'freq_table' and 'display_table' were rendered more pythonic through the use of 'defaultdict' and lambda functions. "
   ]
  },
  {
   "cell_type": "code",
   "execution_count": 141,
   "id": "48ec71a9",
   "metadata": {},
   "outputs": [],
   "source": [
    "from csv import reader \n",
    "from collections import defaultdict\n",
    "\n",
    "class AppData():\n",
    "    \n",
    "    def __init__(self, csv_file, app_type='android'):\n",
    "        with open(csv_file) as file:\n",
    "            read_file = reader(file)\n",
    "            data = list(read_file)\n",
    "            self.header, *self.dataset = data\n",
    "            self.type = app_type.lower()\n",
    "\n",
    "            if self.type == 'android':\n",
    "                self.name_index, self.reviews_index, self.price_index = 0, 3, 7\n",
    "            else:\n",
    "                self.name_index, self.reviews_index, self.price_index = 1, 5, 4\n",
    "            \n",
    "    def __repr__(self):\n",
    "        return str(self.header)\n",
    "    \n",
    "    def number_apps(self):\n",
    "        print(len(self.dataset))\n",
    "    \n",
    "    def explore_data(self, start, end, rows_and_columns=False):\n",
    "        dataset_slice = self.dataset[start:end]\n",
    "        \n",
    "        for row in dataset_slice:\n",
    "            print(row)\n",
    "            print('\\n')\n",
    "        \n",
    "        if rows_and_columns:\n",
    "            print('Number of rows:', len(self.dataset))\n",
    "            print('Number of columns:', len(self.dataset[0]))\n",
    "        \n",
    "    def remove_duplicates(self):\n",
    "        reviews_max = {}\n",
    "\n",
    "        for app in self.dataset:\n",
    "            name = app[self.name_index]\n",
    "            n_reviews = float(app[self.reviews_index])\n",
    "            if name not in reviews_max:\n",
    "                reviews_max[name] = n_reviews\n",
    "            elif n_reviews > reviews_max[name]:\n",
    "                reviews_max[name] = n_reviews\n",
    "\n",
    "        clean = []\n",
    "        already_added = set()\n",
    "\n",
    "        for app in self.dataset:\n",
    "            name = app[self.name_index]\n",
    "            n_reviews = float(app[self.reviews_index])\n",
    "            if n_reviews == reviews_max[name] and name not in already_added:\n",
    "                clean.append(app)\n",
    "                already_added.add(name)\n",
    "        \n",
    "        self.dataset = clean\n",
    "\n",
    "        \n",
    "    def is_non_ascii(self,string):\n",
    "        num_non_ascii = sum(ord(c) > 127 for c in string)\n",
    "        return num_non_ascii <= 3\n",
    "    \n",
    "    def remove_non_ascii(self):\n",
    "        non_ascii = []\n",
    "        \n",
    "        for app in self.dataset:\n",
    "            name = app[self.name_index]\n",
    "            if self.is_non_ascii(name):\n",
    "                non_ascii.append(app)\n",
    "        \n",
    "        self.dataset = non_ascii\n",
    "    \n",
    "    def remove_paid_apps(self):\n",
    "        self.dataset = [app for app in self.dataset if app[self.price_index] == '0' or app[self.price_index]=='0.0']\n",
    "\n",
    "\n",
    "    def freq_table(self, index):\n",
    "        table = defaultdict(int)\n",
    "        total = len(self.dataset)\n",
    "\n",
    "        for row in self.dataset:\n",
    "            value = row[index]\n",
    "            table[value] += 1\n",
    "\n",
    "        table_percentages = {}\n",
    "        for key in table:\n",
    "            percentage = (table[key] / total) * 100\n",
    "            table_percentages[key] = percentage \n",
    "\n",
    "        return table_percentages\n",
    "\n",
    "\n",
    "    def display_table(self, index):\n",
    "        table = self.freq_table(index)\n",
    "        table_sorted = sorted(table.items(), key=lambda x: x[1], reverse=True)\n",
    "        for key, value in table_sorted:\n",
    "            print(f\"{key}: {value}\")\n",
    "\n",
    "\n",
    "            "
   ]
  },
  {
   "cell_type": "markdown",
   "id": "4940ad86",
   "metadata": {},
   "source": [
    "### Ios data explore"
   ]
  },
  {
   "cell_type": "code",
   "execution_count": 142,
   "id": "0c9cc517",
   "metadata": {},
   "outputs": [
    {
     "name": "stdout",
     "output_type": "stream",
     "text": [
      "['id', 'track_name', 'size_bytes', 'currency', 'price', 'rating_count_tot', 'rating_count_ver', 'user_rating', 'user_rating_ver', 'ver', 'cont_rating', 'prime_genre', 'sup_devices.num', 'ipadSc_urls.num', 'lang.num', 'vpp_lic']\n",
      "['284882215', 'Facebook', '389879808', 'USD', '0.0', '2974676', '212', '3.5', '3.5', '95.0', '4+', 'Social Networking', '37', '1', '29', '1']\n",
      "\n",
      "\n",
      "['389801252', 'Instagram', '113954816', 'USD', '0.0', '2161558', '1289', '4.5', '4.0', '10.23', '12+', 'Photo & Video', '37', '0', '29', '1']\n",
      "\n",
      "\n",
      "['529479190', 'Clash of Clans', '116476928', 'USD', '0.0', '2130805', '579', '4.5', '4.5', '9.24.12', '9+', 'Games', '38', '5', '18', '1']\n",
      "\n",
      "\n",
      "Number of rows: 7197\n",
      "Number of columns: 16\n"
     ]
    }
   ],
   "source": [
    "ios = AppData('AppleStore.csv', app_type='ios')\n",
    "print(ios)\n",
    "ios.explore_data(0,3, True)"
   ]
  },
  {
   "cell_type": "markdown",
   "id": "3ee106f5",
   "metadata": {},
   "source": [
    "### Android data explore"
   ]
  },
  {
   "cell_type": "code",
   "execution_count": 143,
   "id": "01d3f758",
   "metadata": {},
   "outputs": [
    {
     "name": "stdout",
     "output_type": "stream",
     "text": [
      "['App', 'Category', 'Rating', 'Reviews', 'Size', 'Installs', 'Type', 'Price', 'Content Rating', 'Genres', 'Last Updated', 'Current Ver', 'Android Ver']\n",
      "['Photo Editor & Candy Camera & Grid & ScrapBook', 'ART_AND_DESIGN', '4.1', '159', '19M', '10,000+', 'Free', '0', 'Everyone', 'Art & Design', 'January 7, 2018', '1.0.0', '4.0.3 and up']\n",
      "\n",
      "\n",
      "['Coloring book moana', 'ART_AND_DESIGN', '3.9', '967', '14M', '500,000+', 'Free', '0', 'Everyone', 'Art & Design;Pretend Play', 'January 15, 2018', '2.0.0', '4.0.3 and up']\n",
      "\n",
      "\n",
      "['U Launcher Lite – FREE Live Cool Themes, Hide Apps', 'ART_AND_DESIGN', '4.7', '87510', '8.7M', '5,000,000+', 'Free', '0', 'Everyone', 'Art & Design', 'August 1, 2018', '1.2.4', '4.0.3 and up']\n",
      "\n",
      "\n",
      "Number of rows: 10841\n",
      "Number of columns: 13\n"
     ]
    }
   ],
   "source": [
    "android = AppData('googleplaystore.csv', app_type='android')\n",
    "print(android)\n",
    "android.explore_data(0,3,True)\n",
    "\n",
    "del android.dataset[10472]"
   ]
  },
  {
   "cell_type": "markdown",
   "id": "0976ee89",
   "metadata": {},
   "source": [
    "### Remove duplicates of android data"
   ]
  },
  {
   "cell_type": "code",
   "execution_count": 144,
   "id": "eb6f9e3f",
   "metadata": {},
   "outputs": [
    {
     "name": "stdout",
     "output_type": "stream",
     "text": [
      "9659\n"
     ]
    }
   ],
   "source": [
    "android.remove_duplicates()\n",
    "android.number_apps()"
   ]
  },
  {
   "cell_type": "markdown",
   "id": "8fd35872",
   "metadata": {},
   "source": [
    "### Remove non-ascii apps "
   ]
  },
  {
   "cell_type": "code",
   "execution_count": 145,
   "id": "907f0937",
   "metadata": {},
   "outputs": [
    {
     "name": "stdout",
     "output_type": "stream",
     "text": [
      "9614\n",
      "6183\n"
     ]
    }
   ],
   "source": [
    "android.remove_non_ascii()\n",
    "ios.remove_non_ascii()\n",
    "\n",
    "android.number_apps()\n",
    "ios.number_apps()"
   ]
  },
  {
   "cell_type": "markdown",
   "id": "b99bc908",
   "metadata": {},
   "source": [
    "### Remove paid apps from android and ios dataset"
   ]
  },
  {
   "cell_type": "code",
   "execution_count": 146,
   "id": "224486a1",
   "metadata": {},
   "outputs": [
    {
     "name": "stdout",
     "output_type": "stream",
     "text": [
      "8864\n",
      "3222\n"
     ]
    }
   ],
   "source": [
    "android.remove_paid_apps()\n",
    "ios.remove_paid_apps()\n",
    "\n",
    "android.number_apps()\n",
    "ios.number_apps()"
   ]
  },
  {
   "cell_type": "markdown",
   "id": "4528dfd8",
   "metadata": {},
   "source": [
    "### Frequency tables\n"
   ]
  },
  {
   "cell_type": "code",
   "execution_count": 148,
   "id": "910436dd",
   "metadata": {},
   "outputs": [
    {
     "name": "stdout",
     "output_type": "stream",
     "text": [
      "Games: 58.16263190564867\n",
      "Entertainment: 7.883302296710118\n",
      "Photo & Video: 4.9658597144630665\n",
      "Education: 3.662321539416512\n",
      "Social Networking: 3.2898820608317814\n",
      "Shopping: 2.60707635009311\n",
      "Utilities: 2.5139664804469275\n",
      "Sports: 2.1415270018621975\n",
      "Music: 2.0484171322160147\n",
      "Health & Fitness: 2.0173805090006205\n",
      "Productivity: 1.7380509000620732\n",
      "Lifestyle: 1.5828677839851024\n",
      "News: 1.3345747982619491\n",
      "Travel: 1.2414649286157666\n",
      "Finance: 1.1173184357541899\n",
      "Weather: 0.8690254500310366\n",
      "Food & Drink: 0.8069522036002483\n",
      "Reference: 0.5586592178770949\n",
      "Business: 0.5276225946617008\n",
      "Book: 0.4345127250155183\n",
      "Navigation: 0.186219739292365\n",
      "Medical: 0.186219739292365\n",
      "Catalogs: 0.12414649286157665\n"
     ]
    }
   ],
   "source": [
    "ios.display_table(-5)"
   ]
  },
  {
   "cell_type": "code",
   "execution_count": 150,
   "id": "7eb0272f",
   "metadata": {},
   "outputs": [
    {
     "name": "stdout",
     "output_type": "stream",
     "text": [
      "Tools: 8.449909747292418\n",
      "Entertainment: 6.069494584837545\n",
      "Education: 5.347472924187725\n",
      "Business: 4.591606498194946\n",
      "Lifestyle: 3.892148014440433\n",
      "Productivity: 3.892148014440433\n",
      "Finance: 3.7003610108303246\n",
      "Medical: 3.531137184115524\n",
      "Sports: 3.463447653429603\n",
      "Personalization: 3.3167870036101084\n",
      "Communication: 3.2378158844765346\n",
      "Action: 3.1024368231046933\n",
      "Health & Fitness: 3.0798736462093865\n",
      "Photography: 2.944494584837545\n",
      "News & Magazines: 2.7978339350180503\n",
      "Social: 2.6624548736462095\n",
      "Travel & Local: 2.3240072202166067\n",
      "Shopping: 2.2450361010830324\n",
      "Books & Reference: 2.1435018050541514\n",
      "Simulation: 2.0419675090252705\n",
      "Dating: 1.861462093862816\n",
      "Arcade: 1.8501805054151623\n",
      "Video Players & Editors: 1.7712093862815883\n",
      "Casual: 1.7599277978339352\n",
      "Maps & Navigation: 1.3989169675090252\n",
      "Food & Drink: 1.2409747292418771\n",
      "Puzzle: 1.128158844765343\n",
      "Racing: 0.9927797833935018\n",
      "Libraries & Demo: 0.9363718411552346\n",
      "Role Playing: 0.9363718411552346\n",
      "Auto & Vehicles: 0.9250902527075812\n",
      "Strategy: 0.9138086642599278\n",
      "House & Home: 0.8235559566787004\n",
      "Weather: 0.8009927797833934\n",
      "Events: 0.7107400722021661\n",
      "Adventure: 0.6768953068592057\n",
      "Comics: 0.6092057761732852\n",
      "Art & Design: 0.5979241877256317\n",
      "Beauty: 0.5979241877256317\n",
      "Parenting: 0.4963898916967509\n",
      "Card: 0.45126353790613716\n",
      "Casino: 0.42870036101083037\n",
      "Trivia: 0.41741877256317694\n",
      "Educational;Education: 0.39485559566787\n",
      "Board: 0.3835740072202166\n",
      "Educational: 0.3722924187725632\n",
      "Education;Education: 0.33844765342960287\n",
      "Word: 0.2594765342960289\n",
      "Casual;Pretend Play: 0.236913357400722\n",
      "Music: 0.2030685920577617\n",
      "Entertainment;Music & Video: 0.16922382671480143\n",
      "Puzzle;Brain Games: 0.16922382671480143\n",
      "Racing;Action & Adventure: 0.16922382671480143\n",
      "Casual;Brain Games: 0.13537906137184114\n",
      "Casual;Action & Adventure: 0.13537906137184114\n",
      "Arcade;Action & Adventure: 0.12409747292418773\n",
      "Action;Action & Adventure: 0.10153429602888085\n",
      "Educational;Pretend Play: 0.09025270758122744\n",
      "Entertainment;Brain Games: 0.078971119133574\n",
      "Simulation;Action & Adventure: 0.078971119133574\n",
      "Board;Brain Games: 0.078971119133574\n",
      "Parenting;Education: 0.078971119133574\n",
      "Art & Design;Creativity: 0.06768953068592057\n",
      "Educational;Brain Games: 0.06768953068592057\n",
      "Casual;Creativity: 0.06768953068592057\n",
      "Parenting;Music & Video: 0.06768953068592057\n",
      "Education;Pretend Play: 0.056407942238267145\n",
      "Education;Creativity: 0.04512635379061372\n",
      "Role Playing;Pretend Play: 0.04512635379061372\n",
      "Education;Brain Games: 0.033844765342960284\n",
      "Entertainment;Creativity: 0.033844765342960284\n",
      "Educational;Creativity: 0.033844765342960284\n",
      "Adventure;Action & Adventure: 0.033844765342960284\n",
      "Role Playing;Action & Adventure: 0.033844765342960284\n",
      "Educational;Action & Adventure: 0.033844765342960284\n",
      "Entertainment;Action & Adventure: 0.033844765342960284\n",
      "Puzzle;Action & Adventure: 0.033844765342960284\n",
      "Education;Action & Adventure: 0.033844765342960284\n",
      "Education;Music & Video: 0.033844765342960284\n",
      "Casual;Education: 0.02256317689530686\n",
      "Music;Music & Video: 0.02256317689530686\n",
      "Simulation;Pretend Play: 0.02256317689530686\n",
      "Puzzle;Creativity: 0.02256317689530686\n",
      "Sports;Action & Adventure: 0.02256317689530686\n",
      "Board;Action & Adventure: 0.02256317689530686\n",
      "Entertainment;Pretend Play: 0.02256317689530686\n",
      "Video Players & Editors;Music & Video: 0.02256317689530686\n",
      "Comics;Creativity: 0.01128158844765343\n",
      "Lifestyle;Pretend Play: 0.01128158844765343\n",
      "Art & Design;Pretend Play: 0.01128158844765343\n",
      "Entertainment;Education: 0.01128158844765343\n",
      "Arcade;Pretend Play: 0.01128158844765343\n",
      "Art & Design;Action & Adventure: 0.01128158844765343\n",
      "Strategy;Action & Adventure: 0.01128158844765343\n",
      "Music & Audio;Music & Video: 0.01128158844765343\n",
      "Health & Fitness;Education: 0.01128158844765343\n",
      "Casual;Music & Video: 0.01128158844765343\n",
      "Travel & Local;Action & Adventure: 0.01128158844765343\n",
      "Tools;Education: 0.01128158844765343\n",
      "Parenting;Brain Games: 0.01128158844765343\n",
      "Video Players & Editors;Creativity: 0.01128158844765343\n",
      "Health & Fitness;Action & Adventure: 0.01128158844765343\n",
      "Trivia;Education: 0.01128158844765343\n",
      "Lifestyle;Education: 0.01128158844765343\n",
      "Card;Action & Adventure: 0.01128158844765343\n",
      "Books & Reference;Education: 0.01128158844765343\n",
      "Simulation;Education: 0.01128158844765343\n",
      "Puzzle;Education: 0.01128158844765343\n",
      "Adventure;Education: 0.01128158844765343\n",
      "Role Playing;Brain Games: 0.01128158844765343\n",
      "Strategy;Education: 0.01128158844765343\n",
      "Racing;Pretend Play: 0.01128158844765343\n",
      "Communication;Creativity: 0.01128158844765343\n",
      "Strategy;Creativity: 0.01128158844765343\n"
     ]
    }
   ],
   "source": [
    "android.display_table(-4)"
   ]
  }
 ],
 "metadata": {
  "kernelspec": {
   "display_name": "Python 3 (ipykernel)",
   "language": "python",
   "name": "python3"
  },
  "language_info": {
   "codemirror_mode": {
    "name": "ipython",
    "version": 3
   },
   "file_extension": ".py",
   "mimetype": "text/x-python",
   "name": "python",
   "nbconvert_exporter": "python",
   "pygments_lexer": "ipython3",
   "version": "3.10.6"
  }
 },
 "nbformat": 4,
 "nbformat_minor": 5
}
